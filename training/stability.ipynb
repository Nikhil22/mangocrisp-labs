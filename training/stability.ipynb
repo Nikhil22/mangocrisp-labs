{
 "cells": [
  {
   "cell_type": "markdown",
   "id": "5c0c907d-e229-4aca-ad11-20d4a13bf9fd",
   "metadata": {},
   "source": [
    "# Welcome\n",
    "\n",
    "This Notebook is inspired by and builds on Jeremy Howard's initialization Notebook [here](https://github.com/fastai/course22p2/blob/master/nbs/11_initializing.ipynb). This Notebook assumes a decent understanding of Python and deep learning fundamentals (i.e neural networks, gradient descent).\n",
    "\n",
    "# Sailing our way to victory\n",
    "\n",
    "People tend to either chase outcomes or metrics. Both are treacherous paths, because both overlook the importance of *creating the conditions for success to emerge naturally*. \n",
    "\n",
    "Pertaining to deep learning, what does this mean? It means that instead of rushing into training a model and blindly tweaking it to satsify our target metrics, we will instead take the time to create the environment where the model trains effectively and learns well. A high accuracy is just a side effect of this. This system allows us to sail our way to victory.\n",
    "\n",
    "In this Notebook, we will learn how to create an environment for training success, and we will do this looking into our model as its training.\n",
    "\n",
    "We will be using a module I put together called `gym`. This is a leaner and modified version of `miniai` that you will find [here](https://github.com/fastai/course22p2/tree/df9323235bc395b5c2f58a3d08b83761947b9b93/miniai)."
   ]
  },
  {
   "cell_type": "code",
   "execution_count": 1,
   "id": "8ec71d18-82be-4916-913f-da7db75332e9",
   "metadata": {},
   "outputs": [],
   "source": [
    "import sys\n",
    "import os\n",
    "parent_dir = os.path.dirname(os.getcwd())\n",
    "sys.path.append(parent_dir)\n",
    "from gym import *"
   ]
  },
  {
   "cell_type": "code",
   "execution_count": 2,
   "id": "9dcf79cb-7c3d-4631-9942-170e0bb95227",
   "metadata": {},
   "outputs": [],
   "source": [
    "import torch\n",
    "import matplotlib.pyplot as plt\n",
    "from functools import partial\n",
    "import torchvision.transforms.functional as TF\n",
    "from math import sqrt\n",
    "import fastcore.all as fc\n",
    "from datasets import load_dataset\n",
    "from torcheval.metrics import MulticlassAccuracy"
   ]
  },
  {
   "cell_type": "markdown",
   "id": "d16858f2-e0c0-4541-a1e4-5df2c46affdd",
   "metadata": {},
   "source": [
    "Now let's load the data. Nothing crazy here."
   ]
  },
  {
   "cell_type": "code",
   "execution_count": 3,
   "id": "fa8957bd-d919-43ec-9ef4-c01dee633b95",
   "metadata": {},
   "outputs": [
    {
     "data": {
      "text/plain": [
       "(torch.Size([1024, 1, 28, 28]), tensor([7, 8, 2, 6, 7, 0, 9, 4, 6, 7]))"
      ]
     },
     "execution_count": 3,
     "metadata": {},
     "output_type": "execute_result"
    }
   ],
   "source": [
    "xl,yl = 'image','label'\n",
    "name = \"fashion_mnist\"\n",
    "dsd = load_dataset(name)\n",
    "\n",
    "@inplace\n",
    "def transformi(b): b[xl] = [TF.to_tensor(o) for o in b[xl]]\n",
    "\n",
    "bs = 1024\n",
    "tds = dsd.with_transform(transformi)\n",
    "\n",
    "dls = DataLoaders.from_dd(tds, bs, num_workers=4)\n",
    "dt = dls.train\n",
    "xb,yb = next(iter(dt))\n",
    "xb.shape,yb[:10]"
   ]
  },
  {
   "cell_type": "markdown",
   "id": "0c3d608d-5968-409e-ae5a-80f0736ef481",
   "metadata": {},
   "source": [
    "# Initializing the Model for Successful Training\n",
    "\n",
    "To understand the importance of initializing, we must first see how things go awry without it:"
   ]
  },
  {
   "cell_type": "code",
   "execution_count": 4,
   "id": "e8d60f1e-2be5-411e-8cef-bb0f13102e72",
   "metadata": {},
   "outputs": [
    {
     "data": {
      "text/plain": [
       "tensor([[nan, nan, nan, nan, nan],\n",
       "        [nan, nan, nan, nan, nan],\n",
       "        [nan, nan, nan, nan, nan],\n",
       "        [nan, nan, nan, nan, nan],\n",
       "        [nan, nan, nan, nan, nan]])"
      ]
     },
     "execution_count": 4,
     "metadata": {},
     "output_type": "execute_result"
    }
   ],
   "source": [
    "layers = 50\n",
    "\n",
    "x = torch.randn(100, 50)\n",
    "w = torch.randn(50, 50)\n",
    "\n",
    "for i in range(layers): \n",
    "    x = x @ w\n",
    "    \n",
    "x[0:5,0:5]"
   ]
  },
  {
   "cell_type": "code",
   "execution_count": null,
   "id": "030c95f1-bbfe-4fee-b1ce-b0672bd76a6b",
   "metadata": {},
   "outputs": [],
   "source": [
    "Try changing `layers` from 10, to 20, and so on. You will see that there is an accumulative effect taking place; the numbers either get very large (or very small, but with large magnitude). This happens due to the repeated matrix multiplications.\n",
    "\n",
    "Let's see how this trains:"
   ]
  },
  {
   "cell_type": "code",
   "execution_count": 7,
   "id": "b5b4cd1c-df8b-4bb2-b87d-daa5620f6c81",
   "metadata": {},
   "outputs": [
    {
     "data": {
      "text/html": [
       "\n",
       "<style>\n",
       "    /* Turns off some styling */\n",
       "    progress {\n",
       "        /* gets rid of default border in Firefox and Opera. */\n",
       "        border: none;\n",
       "        /* Needs to be in here for Safari polyfill so background images work as expected. */\n",
       "        background-size: auto;\n",
       "    }\n",
       "    progress:not([value]), progress:not([value])::-webkit-progress-bar {\n",
       "        background: repeating-linear-gradient(45deg, #7e7e7e, #7e7e7e 10px, #5c5c5c 10px, #5c5c5c 20px);\n",
       "    }\n",
       "    .progress-bar-interrupted, .progress-bar-interrupted::-webkit-progress-bar {\n",
       "        background: #F44336;\n",
       "    }\n",
       "</style>\n"
      ],
      "text/plain": [
       "<IPython.core.display.HTML object>"
      ]
     },
     "metadata": {},
     "output_type": "display_data"
    },
    {
     "data": {
      "text/html": [
       "<table border=\"1\" class=\"dataframe\">\n",
       "  <thead>\n",
       "    <tr style=\"text-align: left;\">\n",
       "      <th>accuracy</th>\n",
       "      <th>loss</th>\n",
       "      <th>epoch</th>\n",
       "      <th>train</th>\n",
       "    </tr>\n",
       "  </thead>\n",
       "  <tbody>\n",
       "    <tr>\n",
       "      <td>0.167</td>\n",
       "      <td>2.269</td>\n",
       "      <td>0</td>\n",
       "      <td>train</td>\n",
       "    </tr>\n",
       "    <tr>\n",
       "      <td>0.100</td>\n",
       "      <td>2.330</td>\n",
       "      <td>0</td>\n",
       "      <td>eval</td>\n",
       "    </tr>\n",
       "  </tbody>\n",
       "</table>"
      ],
      "text/plain": [
       "<IPython.core.display.HTML object>"
      ]
     },
     "metadata": {},
     "output_type": "display_data"
    },
    {
     "data": {
      "image/png": "[encoded data removed]",
      "text/plain": [
       "<Figure size 600x400 with 1 Axes>"
      ]
     },
     "metadata": {},
     "output_type": "display_data"
    }
   ],
   "source": [
    "metrics = MetricsCB(accuracy=MulticlassAccuracy())\n",
    "astats = ActivationStats(fc.risinstance(torch.nn.ReLU))\n",
    "cbs = [DeviceCB(), metrics, ProgressCB(plot=True), astats]\n",
    "learn = MomentumLearner(get_model(), dls, torch.nn.functional.cross_entropy, lr=0.2, cbs=cbs)\n",
    "learn.fit(1)"
   ]
  },
  {
   "cell_type": "markdown",
   "id": "ecaa3b5a-a006-4c9e-9b72-ba0d4f6b1955",
   "metadata": {},
   "source": [
    "Horribly unstable and haphazard.\n",
    "\n",
    "### Why is this haphazardness a problem?\n",
    "\n",
    "During training, to update weights appropriately, we must calculate gradients of various functions (i.e loss) with respect to weights (and biases). If these values are unstable and oversized, the gradients will be too (as they are literal derivatives).\n",
    "\n",
    "And this means that the model is **not** learning in a systematic fashion. The weight updates overshadow and destroy any useful information that smaller gradients might carry. Thus, the model can no longer learn the subtle patterns in the data.\n",
    "\n",
    "It is not uncommon for a network to be 50+ layers deep, to appropriately capture the nuances and complexities of its dataset. Thus, you can see how easily things can fall apart. There is more to say about this problem (exploding gradients), but this is enough for now.\n",
    "\n",
    "### Why is this happening despite using randn?\n",
    "\n",
    "The`randn` function that we use to initialize the values of `x` and `w` ensures that the values start with a mean of 0 and a standard deviation of 1; in other words, the values follow a normal (Gaussian) distribution. So why isn't this distribution *maintained* as we propagate through layers?\n",
    "\n",
    "Even though the initial values are drawn from a standard normal distribution, repeated matrix multiplications, especially with a large number of layers (40 in this case), can lead to very large values. This is because matrix multiplication is not a simple element-wise operation; it involves summing up the products of elements, which can grow exponentially with each layer. \n",
    "\n",
    "Each iteration essentially performs a linear transformation on `x`, and repeated applications can lead to a complex transformation, causing the tensor's values to deviate significantly from the initial distribution.\n",
    "\n",
    "### How do we solve this problem?\n",
    "\n",
    "We can restrict the values of the activations to be in a certain range. However, simply clipping or restricting the range of activations would likely hamper the model's ability to learn complex patterns.\n",
    "\n",
    "So, it would seem reasonable to *keep* this (normal) distribution for the activations as they propagate through the layers, would it not? This way, no particular activation(s) will veer off course in great magnitude, as we saw above.\n",
    "\n",
    "The *values* of the activations may of course differ from one another (as they should, due to varying gradient updates). But by maintaining a normal distribution across layers, we can ensure that the model has the stability needed for training while preserving the *relative* differences between activations.\n",
    "\n",
    "One way to achieve this is Batch Normalization. Before we do this, let's first define a function to create the convolutional layer (with normalization and activation layers conditionally attached to it)."
   ]
  },
  {
   "cell_type": "code",
   "execution_count": 32,
   "id": "31fdf22a-a111-4435-bca4-14f1e9121ccf",
   "metadata": {},
   "outputs": [],
   "source": [
    "def conv(ni, nf, ks=3, stride=2, act=torch.nn.ReLU, norm=None, bias=None):\n",
    "    is_batch_norm = isinstance(norm, (\n",
    "        torch.nn.BatchNorm1d,\n",
    "        torch.nn.BatchNorm2d,\n",
    "        torch.nn.BatchNorm3d\n",
    "    ))\n",
    "    # the bias is redundant when doing batch normalization as this is captured by the 'shift'\n",
    "    if bias is None: bias = not is_batch_norm\n",
    "    layers = [torch.nn.Conv2d(ni, nf, stride=stride, kernel_size=ks, padding=ks//2, bias=bias)]\n",
    "    if norm: layers.append(norm(nf))\n",
    "    if act: layers.append(act())\n",
    "    return torch.nn.Sequential(*layers)"
   ]
  },
  {
   "cell_type": "markdown",
   "id": "9789121b-a376-4882-b58c-9c8be700da92",
   "metadata": {},
   "source": [
    "### Understanding the code\n",
    "\n",
    "#### Function Signature:\n",
    "- `def conv(ni, nf, ks=3, stride=2, act=torch.nn.ReLU, norm=None, bias=None)`: Its parameters are:\n",
    "    - `ni`: Number of input channels for the convolutional layer.\n",
    "    - `nf`: Number of output channels (filters) for the convolutional layer.\n",
    "    - `ks`: Kernel size for the convolutional filter. It defaults to 3.\n",
    "    - `stride`: Stride for the convolutional operation. It defaults to 2.\n",
    "    - `act`: Activation function to use after the convolution. The default is a vanilla ReLU.\n",
    "    - `norm`: Normalization layer to apply after the convolution. It's optional.\n",
    "    - `bias`: Whether or not to use a bias term in the convolutional layer.\n",
    "\n",
    "#### Creating a Convolutional Layer:\n",
    "- `layers = [torch.nn.Conv2d(ni, nf, stride=stride, kernel_size=ks, padding=ks//2, bias=bias)]`:\n",
    "    - This line creates a 2D convolutional layer with the specified number of input/output channels, stride, kernel size, padding (calculated as ks//2 for ensuring the output size remains consistent), and bias. \n",
    "    - This layer is added to the layers list.\n",
    "\n",
    "Then, conditionally add Normalization and Activation.\n",
    "\n",
    "#### Output\n",
    "- Returns a `torch.nn.Sequential` module containing the constructed layers. This makes it easy to integrate this block into larger neural network architectures."
   ]
  },
  {
   "cell_type": "markdown",
   "id": "a4112742-1e55-4d66-a5c1-a9d342003ac6",
   "metadata": {},
   "source": [
    "Now let's see if this stabilizes our training."
   ]
  },
  {
   "cell_type": "code",
   "execution_count": 30,
   "id": "a81bcc33-5a58-4fbb-9786-85aaff4c83cc",
   "metadata": {},
   "outputs": [
    {
     "data": {
      "text/html": [
       "\n",
       "<style>\n",
       "    /* Turns off some styling */\n",
       "    progress {\n",
       "        /* gets rid of default border in Firefox and Opera. */\n",
       "        border: none;\n",
       "        /* Needs to be in here for Safari polyfill so background images work as expected. */\n",
       "        background-size: auto;\n",
       "    }\n",
       "    progress:not([value]), progress:not([value])::-webkit-progress-bar {\n",
       "        background: repeating-linear-gradient(45deg, #7e7e7e, #7e7e7e 10px, #5c5c5c 10px, #5c5c5c 20px);\n",
       "    }\n",
       "    .progress-bar-interrupted, .progress-bar-interrupted::-webkit-progress-bar {\n",
       "        background: #F44336;\n",
       "    }\n",
       "</style>\n"
      ],
      "text/plain": [
       "<IPython.core.display.HTML object>"
      ]
     },
     "metadata": {},
     "output_type": "display_data"
    },
    {
     "data": {
      "text/html": [
       "\n",
       "    <div>\n",
       "      <progress value='1' class='' max='3' style='width:300px; height:20px; vertical-align: middle;'></progress>\n",
       "      33.33% [1/3 00:23&lt;00:47]\n",
       "    </div>\n",
       "    \n",
       "<table border=\"1\" class=\"dataframe\">\n",
       "  <thead>\n",
       "    <tr style=\"text-align: left;\">\n",
       "      <th>accuracy</th>\n",
       "      <th>loss</th>\n",
       "      <th>epoch</th>\n",
       "      <th>train</th>\n",
       "    </tr>\n",
       "  </thead>\n",
       "  <tbody>\n",
       "    <tr>\n",
       "      <td>0.833</td>\n",
       "      <td>0.457</td>\n",
       "      <td>0</td>\n",
       "      <td>train</td>\n",
       "    </tr>\n",
       "    <tr>\n",
       "      <td>0.867</td>\n",
       "      <td>0.364</td>\n",
       "      <td>0</td>\n",
       "      <td>eval</td>\n",
       "    </tr>\n",
       "  </tbody>\n",
       "</table><p>\n",
       "\n",
       "    <div>\n",
       "      <progress value='39' class='' max='235' style='width:300px; height:20px; vertical-align: middle;'></progress>\n",
       "      16.60% [39/235 00:09&lt;00:45 0.378]\n",
       "    </div>\n",
       "    "
      ],
      "text/plain": [
       "<IPython.core.display.HTML object>"
      ]
     },
     "metadata": {},
     "output_type": "display_data"
    },
    {
     "data": {
      "image/png": "[encoded data removed]",
      "text/plain": [
       "<Figure size 600x400 with 1 Axes>"
      ]
     },
     "metadata": {},
     "output_type": "display_data"
    },
    {
     "ename": "KeyboardInterrupt",
     "evalue": "",
     "output_type": "error",
     "traceback": [
      "\u001b[0;31m---------------------------------------------------------------------------\u001b[0m",
      "\u001b[0;31mKeyboardInterrupt\u001b[0m                         Traceback (most recent call last)",
      "Cell \u001b[0;32mIn[30], line 8\u001b[0m\n\u001b[1;32m      6\u001b[0m cbs \u001b[38;5;241m=\u001b[39m [DeviceCB(), metrics, ProgressCB(plot\u001b[38;5;241m=\u001b[39m\u001b[38;5;28;01mTrue\u001b[39;00m), astats]\n\u001b[1;32m      7\u001b[0m learn \u001b[38;5;241m=\u001b[39m MomentumLearner(model, dls, torch\u001b[38;5;241m.\u001b[39mnn\u001b[38;5;241m.\u001b[39mfunctional\u001b[38;5;241m.\u001b[39mcross_entropy, lr\u001b[38;5;241m=\u001b[39m\u001b[38;5;241m0.2\u001b[39m, cbs\u001b[38;5;241m=\u001b[39mcbs)\n\u001b[0;32m----> 8\u001b[0m \u001b[43mlearn\u001b[49m\u001b[38;5;241;43m.\u001b[39;49m\u001b[43mfit\u001b[49m\u001b[43m(\u001b[49m\u001b[38;5;241;43m3\u001b[39;49m\u001b[43m)\u001b[49m\n",
      "File \u001b[0;32m~/Desktop/mangocrisp/labs/gym/training.py:50\u001b[0m, in \u001b[0;36mLearner.fit\u001b[0;34m(self, n_epochs, train, valid, cbs, lr)\u001b[0m\n\u001b[1;32m     48\u001b[0m     \u001b[38;5;28;01mif\u001b[39;00m lr \u001b[38;5;129;01mis\u001b[39;00m \u001b[38;5;28;01mNone\u001b[39;00m: lr \u001b[38;5;241m=\u001b[39m \u001b[38;5;28mself\u001b[39m\u001b[38;5;241m.\u001b[39mlr\n\u001b[1;32m     49\u001b[0m     \u001b[38;5;28;01mif\u001b[39;00m \u001b[38;5;28mself\u001b[39m\u001b[38;5;241m.\u001b[39mopt_func: \u001b[38;5;28mself\u001b[39m\u001b[38;5;241m.\u001b[39mopt \u001b[38;5;241m=\u001b[39m \u001b[38;5;28mself\u001b[39m\u001b[38;5;241m.\u001b[39mopt_func(\u001b[38;5;28mself\u001b[39m\u001b[38;5;241m.\u001b[39mmodel\u001b[38;5;241m.\u001b[39mparameters(), lr)\n\u001b[0;32m---> 50\u001b[0m     \u001b[38;5;28;43mself\u001b[39;49m\u001b[38;5;241;43m.\u001b[39;49m\u001b[43m_fit\u001b[49m\u001b[43m(\u001b[49m\u001b[43mtrain\u001b[49m\u001b[43m,\u001b[49m\u001b[43m \u001b[49m\u001b[43mvalid\u001b[49m\u001b[43m)\u001b[49m\n\u001b[1;32m     51\u001b[0m \u001b[38;5;28;01mfinally\u001b[39;00m:\n\u001b[1;32m     52\u001b[0m     \u001b[38;5;28;01mfor\u001b[39;00m cb \u001b[38;5;129;01min\u001b[39;00m cbs: \u001b[38;5;28mself\u001b[39m\u001b[38;5;241m.\u001b[39mcbs\u001b[38;5;241m.\u001b[39mremove(cb)\n",
      "File \u001b[0;32m~/Desktop/mangocrisp/labs/gym/callbacks.py:42\u001b[0m, in \u001b[0;36mwith_callbacks.__call__.<locals>._f\u001b[0;34m(o, *args, **kwargs)\u001b[0m\n\u001b[1;32m     40\u001b[0m \u001b[38;5;28;01mtry\u001b[39;00m:\n\u001b[1;32m     41\u001b[0m     o\u001b[38;5;241m.\u001b[39mcallback(\u001b[38;5;124mf\u001b[39m\u001b[38;5;124m'\u001b[39m\u001b[38;5;124mbefore_\u001b[39m\u001b[38;5;132;01m{\u001b[39;00m\u001b[38;5;28mself\u001b[39m\u001b[38;5;241m.\u001b[39mnm\u001b[38;5;132;01m}\u001b[39;00m\u001b[38;5;124m'\u001b[39m)\n\u001b[0;32m---> 42\u001b[0m     \u001b[43mf\u001b[49m\u001b[43m(\u001b[49m\u001b[43mo\u001b[49m\u001b[43m,\u001b[49m\u001b[43m \u001b[49m\u001b[38;5;241;43m*\u001b[39;49m\u001b[43margs\u001b[49m\u001b[43m,\u001b[49m\u001b[43m \u001b[49m\u001b[38;5;241;43m*\u001b[39;49m\u001b[38;5;241;43m*\u001b[39;49m\u001b[43mkwargs\u001b[49m\u001b[43m)\u001b[49m\n\u001b[1;32m     43\u001b[0m     o\u001b[38;5;241m.\u001b[39mcallback(\u001b[38;5;124mf\u001b[39m\u001b[38;5;124m'\u001b[39m\u001b[38;5;124mafter_\u001b[39m\u001b[38;5;132;01m{\u001b[39;00m\u001b[38;5;28mself\u001b[39m\u001b[38;5;241m.\u001b[39mnm\u001b[38;5;132;01m}\u001b[39;00m\u001b[38;5;124m'\u001b[39m)\n\u001b[1;32m     44\u001b[0m \u001b[38;5;28;01mexcept\u001b[39;00m \u001b[38;5;28mglobals\u001b[39m()[\u001b[38;5;124mf\u001b[39m\u001b[38;5;124m'\u001b[39m\u001b[38;5;124mCancel\u001b[39m\u001b[38;5;132;01m{\u001b[39;00m\u001b[38;5;28mself\u001b[39m\u001b[38;5;241m.\u001b[39mnm\u001b[38;5;241m.\u001b[39mtitle()\u001b[38;5;132;01m}\u001b[39;00m\u001b[38;5;124mException\u001b[39m\u001b[38;5;124m'\u001b[39m]:\n",
      "File \u001b[0;32m~/Desktop/mangocrisp/labs/gym/training.py:38\u001b[0m, in \u001b[0;36mLearner._fit\u001b[0;34m(self, train, valid)\u001b[0m\n\u001b[1;32m     35\u001b[0m \u001b[38;5;129m@with_callbacks\u001b[39m(\u001b[38;5;124m'\u001b[39m\u001b[38;5;124mfit\u001b[39m\u001b[38;5;124m'\u001b[39m)\n\u001b[1;32m     36\u001b[0m \u001b[38;5;28;01mdef\u001b[39;00m \u001b[38;5;21m_fit\u001b[39m(\u001b[38;5;28mself\u001b[39m, train, valid):\n\u001b[1;32m     37\u001b[0m     \u001b[38;5;28;01mfor\u001b[39;00m \u001b[38;5;28mself\u001b[39m\u001b[38;5;241m.\u001b[39mepoch \u001b[38;5;129;01min\u001b[39;00m \u001b[38;5;28mself\u001b[39m\u001b[38;5;241m.\u001b[39mepochs:\n\u001b[0;32m---> 38\u001b[0m         \u001b[38;5;28;01mif\u001b[39;00m train: \u001b[38;5;28;43mself\u001b[39;49m\u001b[38;5;241;43m.\u001b[39;49m\u001b[43mone_epoch\u001b[49m\u001b[43m(\u001b[49m\u001b[38;5;28;43;01mTrue\u001b[39;49;00m\u001b[43m)\u001b[49m\n\u001b[1;32m     39\u001b[0m         \u001b[38;5;28;01mif\u001b[39;00m valid: torch\u001b[38;5;241m.\u001b[39mno_grad()(\u001b[38;5;28mself\u001b[39m\u001b[38;5;241m.\u001b[39mone_epoch)(\u001b[38;5;28;01mFalse\u001b[39;00m)\n",
      "File \u001b[0;32m~/Desktop/mangocrisp/labs/gym/training.py:33\u001b[0m, in \u001b[0;36mLearner.one_epoch\u001b[0;34m(self, training)\u001b[0m\n\u001b[1;32m     31\u001b[0m \u001b[38;5;28mself\u001b[39m\u001b[38;5;241m.\u001b[39mmodel\u001b[38;5;241m.\u001b[39mtrain(training)\n\u001b[1;32m     32\u001b[0m \u001b[38;5;28mself\u001b[39m\u001b[38;5;241m.\u001b[39mdl \u001b[38;5;241m=\u001b[39m \u001b[38;5;28mself\u001b[39m\u001b[38;5;241m.\u001b[39mdls\u001b[38;5;241m.\u001b[39mtrain \u001b[38;5;28;01mif\u001b[39;00m training \u001b[38;5;28;01melse\u001b[39;00m \u001b[38;5;28mself\u001b[39m\u001b[38;5;241m.\u001b[39mdls\u001b[38;5;241m.\u001b[39mvalid\n\u001b[0;32m---> 33\u001b[0m \u001b[38;5;28;43mself\u001b[39;49m\u001b[38;5;241;43m.\u001b[39;49m\u001b[43m_one_epoch\u001b[49m\u001b[43m(\u001b[49m\u001b[43m)\u001b[49m\n",
      "File \u001b[0;32m~/Desktop/mangocrisp/labs/gym/callbacks.py:42\u001b[0m, in \u001b[0;36mwith_callbacks.__call__.<locals>._f\u001b[0;34m(o, *args, **kwargs)\u001b[0m\n\u001b[1;32m     40\u001b[0m \u001b[38;5;28;01mtry\u001b[39;00m:\n\u001b[1;32m     41\u001b[0m     o\u001b[38;5;241m.\u001b[39mcallback(\u001b[38;5;124mf\u001b[39m\u001b[38;5;124m'\u001b[39m\u001b[38;5;124mbefore_\u001b[39m\u001b[38;5;132;01m{\u001b[39;00m\u001b[38;5;28mself\u001b[39m\u001b[38;5;241m.\u001b[39mnm\u001b[38;5;132;01m}\u001b[39;00m\u001b[38;5;124m'\u001b[39m)\n\u001b[0;32m---> 42\u001b[0m     \u001b[43mf\u001b[49m\u001b[43m(\u001b[49m\u001b[43mo\u001b[49m\u001b[43m,\u001b[49m\u001b[43m \u001b[49m\u001b[38;5;241;43m*\u001b[39;49m\u001b[43margs\u001b[49m\u001b[43m,\u001b[49m\u001b[43m \u001b[49m\u001b[38;5;241;43m*\u001b[39;49m\u001b[38;5;241;43m*\u001b[39;49m\u001b[43mkwargs\u001b[49m\u001b[43m)\u001b[49m\n\u001b[1;32m     43\u001b[0m     o\u001b[38;5;241m.\u001b[39mcallback(\u001b[38;5;124mf\u001b[39m\u001b[38;5;124m'\u001b[39m\u001b[38;5;124mafter_\u001b[39m\u001b[38;5;132;01m{\u001b[39;00m\u001b[38;5;28mself\u001b[39m\u001b[38;5;241m.\u001b[39mnm\u001b[38;5;132;01m}\u001b[39;00m\u001b[38;5;124m'\u001b[39m)\n\u001b[1;32m     44\u001b[0m \u001b[38;5;28;01mexcept\u001b[39;00m \u001b[38;5;28mglobals\u001b[39m()[\u001b[38;5;124mf\u001b[39m\u001b[38;5;124m'\u001b[39m\u001b[38;5;124mCancel\u001b[39m\u001b[38;5;132;01m{\u001b[39;00m\u001b[38;5;28mself\u001b[39m\u001b[38;5;241m.\u001b[39mnm\u001b[38;5;241m.\u001b[39mtitle()\u001b[38;5;132;01m}\u001b[39;00m\u001b[38;5;124mException\u001b[39m\u001b[38;5;124m'\u001b[39m]:\n",
      "File \u001b[0;32m~/Desktop/mangocrisp/labs/gym/training.py:28\u001b[0m, in \u001b[0;36mLearner._one_epoch\u001b[0;34m(self)\u001b[0m\n\u001b[1;32m     26\u001b[0m \u001b[38;5;129m@with_callbacks\u001b[39m(\u001b[38;5;124m'\u001b[39m\u001b[38;5;124mepoch\u001b[39m\u001b[38;5;124m'\u001b[39m)\n\u001b[1;32m     27\u001b[0m \u001b[38;5;28;01mdef\u001b[39;00m \u001b[38;5;21m_one_epoch\u001b[39m(\u001b[38;5;28mself\u001b[39m):\n\u001b[0;32m---> 28\u001b[0m     \u001b[38;5;28;01mfor\u001b[39;00m \u001b[38;5;28mself\u001b[39m\u001b[38;5;241m.\u001b[39miter,\u001b[38;5;28mself\u001b[39m\u001b[38;5;241m.\u001b[39mbatch \u001b[38;5;129;01min\u001b[39;00m \u001b[38;5;28menumerate\u001b[39m(\u001b[38;5;28mself\u001b[39m\u001b[38;5;241m.\u001b[39mdl): \u001b[38;5;28;43mself\u001b[39;49m\u001b[38;5;241;43m.\u001b[39;49m\u001b[43m_one_batch\u001b[49m\u001b[43m(\u001b[49m\u001b[43m)\u001b[49m\n",
      "File \u001b[0;32m~/Desktop/mangocrisp/labs/gym/callbacks.py:42\u001b[0m, in \u001b[0;36mwith_callbacks.__call__.<locals>._f\u001b[0;34m(o, *args, **kwargs)\u001b[0m\n\u001b[1;32m     40\u001b[0m \u001b[38;5;28;01mtry\u001b[39;00m:\n\u001b[1;32m     41\u001b[0m     o\u001b[38;5;241m.\u001b[39mcallback(\u001b[38;5;124mf\u001b[39m\u001b[38;5;124m'\u001b[39m\u001b[38;5;124mbefore_\u001b[39m\u001b[38;5;132;01m{\u001b[39;00m\u001b[38;5;28mself\u001b[39m\u001b[38;5;241m.\u001b[39mnm\u001b[38;5;132;01m}\u001b[39;00m\u001b[38;5;124m'\u001b[39m)\n\u001b[0;32m---> 42\u001b[0m     \u001b[43mf\u001b[49m\u001b[43m(\u001b[49m\u001b[43mo\u001b[49m\u001b[43m,\u001b[49m\u001b[43m \u001b[49m\u001b[38;5;241;43m*\u001b[39;49m\u001b[43margs\u001b[49m\u001b[43m,\u001b[49m\u001b[43m \u001b[49m\u001b[38;5;241;43m*\u001b[39;49m\u001b[38;5;241;43m*\u001b[39;49m\u001b[43mkwargs\u001b[49m\u001b[43m)\u001b[49m\n\u001b[1;32m     43\u001b[0m     o\u001b[38;5;241m.\u001b[39mcallback(\u001b[38;5;124mf\u001b[39m\u001b[38;5;124m'\u001b[39m\u001b[38;5;124mafter_\u001b[39m\u001b[38;5;132;01m{\u001b[39;00m\u001b[38;5;28mself\u001b[39m\u001b[38;5;241m.\u001b[39mnm\u001b[38;5;132;01m}\u001b[39;00m\u001b[38;5;124m'\u001b[39m)\n\u001b[1;32m     44\u001b[0m \u001b[38;5;28;01mexcept\u001b[39;00m \u001b[38;5;28mglobals\u001b[39m()[\u001b[38;5;124mf\u001b[39m\u001b[38;5;124m'\u001b[39m\u001b[38;5;124mCancel\u001b[39m\u001b[38;5;132;01m{\u001b[39;00m\u001b[38;5;28mself\u001b[39m\u001b[38;5;241m.\u001b[39mnm\u001b[38;5;241m.\u001b[39mtitle()\u001b[38;5;132;01m}\u001b[39;00m\u001b[38;5;124mException\u001b[39m\u001b[38;5;124m'\u001b[39m]:\n",
      "File \u001b[0;32m~/Desktop/mangocrisp/labs/gym/training.py:15\u001b[0m, in \u001b[0;36mLearner._one_batch\u001b[0;34m(self)\u001b[0m\n\u001b[1;32m     13\u001b[0m \u001b[38;5;129m@with_callbacks\u001b[39m(\u001b[38;5;124m'\u001b[39m\u001b[38;5;124mbatch\u001b[39m\u001b[38;5;124m'\u001b[39m)\n\u001b[1;32m     14\u001b[0m \u001b[38;5;28;01mdef\u001b[39;00m \u001b[38;5;21m_one_batch\u001b[39m(\u001b[38;5;28mself\u001b[39m):\n\u001b[0;32m---> 15\u001b[0m     \u001b[38;5;28;43mself\u001b[39;49m\u001b[38;5;241;43m.\u001b[39;49m\u001b[43mpredict\u001b[49m\u001b[43m(\u001b[49m\u001b[43m)\u001b[49m\n\u001b[1;32m     16\u001b[0m     \u001b[38;5;28mself\u001b[39m\u001b[38;5;241m.\u001b[39mcallback(\u001b[38;5;124m'\u001b[39m\u001b[38;5;124mafter_predict\u001b[39m\u001b[38;5;124m'\u001b[39m)\n\u001b[1;32m     17\u001b[0m     \u001b[38;5;28mself\u001b[39m\u001b[38;5;241m.\u001b[39mget_loss()\n",
      "File \u001b[0;32m~/Desktop/mangocrisp/labs/gym/training.py:64\u001b[0m, in \u001b[0;36mTrainLearner.predict\u001b[0;34m(self)\u001b[0m\n\u001b[0;32m---> 64\u001b[0m \u001b[38;5;28;01mdef\u001b[39;00m \u001b[38;5;21mpredict\u001b[39m(\u001b[38;5;28mself\u001b[39m): \u001b[38;5;28mself\u001b[39m\u001b[38;5;241m.\u001b[39mpreds \u001b[38;5;241m=\u001b[39m \u001b[38;5;28;43mself\u001b[39;49m\u001b[38;5;241;43m.\u001b[39;49m\u001b[43mmodel\u001b[49m\u001b[43m(\u001b[49m\u001b[38;5;28;43mself\u001b[39;49m\u001b[38;5;241;43m.\u001b[39;49m\u001b[43mbatch\u001b[49m\u001b[43m[\u001b[49m\u001b[38;5;241;43m0\u001b[39;49m\u001b[43m]\u001b[49m\u001b[43m)\u001b[49m\n",
      "File \u001b[0;32m~/miniconda3/lib/python3.10/site-packages/torch/nn/modules/module.py:1501\u001b[0m, in \u001b[0;36mModule._call_impl\u001b[0;34m(self, *args, **kwargs)\u001b[0m\n\u001b[1;32m   1496\u001b[0m \u001b[38;5;66;03m# If we don't have any hooks, we want to skip the rest of the logic in\u001b[39;00m\n\u001b[1;32m   1497\u001b[0m \u001b[38;5;66;03m# this function, and just call forward.\u001b[39;00m\n\u001b[1;32m   1498\u001b[0m \u001b[38;5;28;01mif\u001b[39;00m \u001b[38;5;129;01mnot\u001b[39;00m (\u001b[38;5;28mself\u001b[39m\u001b[38;5;241m.\u001b[39m_backward_hooks \u001b[38;5;129;01mor\u001b[39;00m \u001b[38;5;28mself\u001b[39m\u001b[38;5;241m.\u001b[39m_backward_pre_hooks \u001b[38;5;129;01mor\u001b[39;00m \u001b[38;5;28mself\u001b[39m\u001b[38;5;241m.\u001b[39m_forward_hooks \u001b[38;5;129;01mor\u001b[39;00m \u001b[38;5;28mself\u001b[39m\u001b[38;5;241m.\u001b[39m_forward_pre_hooks\n\u001b[1;32m   1499\u001b[0m         \u001b[38;5;129;01mor\u001b[39;00m _global_backward_pre_hooks \u001b[38;5;129;01mor\u001b[39;00m _global_backward_hooks\n\u001b[1;32m   1500\u001b[0m         \u001b[38;5;129;01mor\u001b[39;00m _global_forward_hooks \u001b[38;5;129;01mor\u001b[39;00m _global_forward_pre_hooks):\n\u001b[0;32m-> 1501\u001b[0m     \u001b[38;5;28;01mreturn\u001b[39;00m \u001b[43mforward_call\u001b[49m\u001b[43m(\u001b[49m\u001b[38;5;241;43m*\u001b[39;49m\u001b[43margs\u001b[49m\u001b[43m,\u001b[49m\u001b[43m \u001b[49m\u001b[38;5;241;43m*\u001b[39;49m\u001b[38;5;241;43m*\u001b[39;49m\u001b[43mkwargs\u001b[49m\u001b[43m)\u001b[49m\n\u001b[1;32m   1502\u001b[0m \u001b[38;5;66;03m# Do not call functions when jit is used\u001b[39;00m\n\u001b[1;32m   1503\u001b[0m full_backward_hooks, non_full_backward_hooks \u001b[38;5;241m=\u001b[39m [], []\n",
      "File \u001b[0;32m~/miniconda3/lib/python3.10/site-packages/torch/nn/modules/container.py:217\u001b[0m, in \u001b[0;36mSequential.forward\u001b[0;34m(self, input)\u001b[0m\n\u001b[1;32m    215\u001b[0m \u001b[38;5;28;01mdef\u001b[39;00m \u001b[38;5;21mforward\u001b[39m(\u001b[38;5;28mself\u001b[39m, \u001b[38;5;28minput\u001b[39m):\n\u001b[1;32m    216\u001b[0m     \u001b[38;5;28;01mfor\u001b[39;00m module \u001b[38;5;129;01min\u001b[39;00m \u001b[38;5;28mself\u001b[39m:\n\u001b[0;32m--> 217\u001b[0m         \u001b[38;5;28minput\u001b[39m \u001b[38;5;241m=\u001b[39m \u001b[43mmodule\u001b[49m\u001b[43m(\u001b[49m\u001b[38;5;28;43minput\u001b[39;49m\u001b[43m)\u001b[49m\n\u001b[1;32m    218\u001b[0m     \u001b[38;5;28;01mreturn\u001b[39;00m \u001b[38;5;28minput\u001b[39m\n",
      "File \u001b[0;32m~/miniconda3/lib/python3.10/site-packages/torch/nn/modules/module.py:1501\u001b[0m, in \u001b[0;36mModule._call_impl\u001b[0;34m(self, *args, **kwargs)\u001b[0m\n\u001b[1;32m   1496\u001b[0m \u001b[38;5;66;03m# If we don't have any hooks, we want to skip the rest of the logic in\u001b[39;00m\n\u001b[1;32m   1497\u001b[0m \u001b[38;5;66;03m# this function, and just call forward.\u001b[39;00m\n\u001b[1;32m   1498\u001b[0m \u001b[38;5;28;01mif\u001b[39;00m \u001b[38;5;129;01mnot\u001b[39;00m (\u001b[38;5;28mself\u001b[39m\u001b[38;5;241m.\u001b[39m_backward_hooks \u001b[38;5;129;01mor\u001b[39;00m \u001b[38;5;28mself\u001b[39m\u001b[38;5;241m.\u001b[39m_backward_pre_hooks \u001b[38;5;129;01mor\u001b[39;00m \u001b[38;5;28mself\u001b[39m\u001b[38;5;241m.\u001b[39m_forward_hooks \u001b[38;5;129;01mor\u001b[39;00m \u001b[38;5;28mself\u001b[39m\u001b[38;5;241m.\u001b[39m_forward_pre_hooks\n\u001b[1;32m   1499\u001b[0m         \u001b[38;5;129;01mor\u001b[39;00m _global_backward_pre_hooks \u001b[38;5;129;01mor\u001b[39;00m _global_backward_hooks\n\u001b[1;32m   1500\u001b[0m         \u001b[38;5;129;01mor\u001b[39;00m _global_forward_hooks \u001b[38;5;129;01mor\u001b[39;00m _global_forward_pre_hooks):\n\u001b[0;32m-> 1501\u001b[0m     \u001b[38;5;28;01mreturn\u001b[39;00m \u001b[43mforward_call\u001b[49m\u001b[43m(\u001b[49m\u001b[38;5;241;43m*\u001b[39;49m\u001b[43margs\u001b[49m\u001b[43m,\u001b[49m\u001b[43m \u001b[49m\u001b[38;5;241;43m*\u001b[39;49m\u001b[38;5;241;43m*\u001b[39;49m\u001b[43mkwargs\u001b[49m\u001b[43m)\u001b[49m\n\u001b[1;32m   1502\u001b[0m \u001b[38;5;66;03m# Do not call functions when jit is used\u001b[39;00m\n\u001b[1;32m   1503\u001b[0m full_backward_hooks, non_full_backward_hooks \u001b[38;5;241m=\u001b[39m [], []\n",
      "File \u001b[0;32m~/miniconda3/lib/python3.10/site-packages/torch/nn/modules/container.py:217\u001b[0m, in \u001b[0;36mSequential.forward\u001b[0;34m(self, input)\u001b[0m\n\u001b[1;32m    215\u001b[0m \u001b[38;5;28;01mdef\u001b[39;00m \u001b[38;5;21mforward\u001b[39m(\u001b[38;5;28mself\u001b[39m, \u001b[38;5;28minput\u001b[39m):\n\u001b[1;32m    216\u001b[0m     \u001b[38;5;28;01mfor\u001b[39;00m module \u001b[38;5;129;01min\u001b[39;00m \u001b[38;5;28mself\u001b[39m:\n\u001b[0;32m--> 217\u001b[0m         \u001b[38;5;28minput\u001b[39m \u001b[38;5;241m=\u001b[39m \u001b[43mmodule\u001b[49m\u001b[43m(\u001b[49m\u001b[38;5;28;43minput\u001b[39;49m\u001b[43m)\u001b[49m\n\u001b[1;32m    218\u001b[0m     \u001b[38;5;28;01mreturn\u001b[39;00m \u001b[38;5;28minput\u001b[39m\n",
      "File \u001b[0;32m~/miniconda3/lib/python3.10/site-packages/torch/nn/modules/module.py:1547\u001b[0m, in \u001b[0;36mModule._call_impl\u001b[0;34m(self, *args, **kwargs)\u001b[0m\n\u001b[1;32m   1545\u001b[0m     hook_result \u001b[38;5;241m=\u001b[39m hook(\u001b[38;5;28mself\u001b[39m, args, kwargs, result)\n\u001b[1;32m   1546\u001b[0m \u001b[38;5;28;01melse\u001b[39;00m:\n\u001b[0;32m-> 1547\u001b[0m     hook_result \u001b[38;5;241m=\u001b[39m \u001b[43mhook\u001b[49m\u001b[43m(\u001b[49m\u001b[38;5;28;43mself\u001b[39;49m\u001b[43m,\u001b[49m\u001b[43m \u001b[49m\u001b[43margs\u001b[49m\u001b[43m,\u001b[49m\u001b[43m \u001b[49m\u001b[43mresult\u001b[49m\u001b[43m)\u001b[49m\n\u001b[1;32m   1549\u001b[0m \u001b[38;5;28;01mif\u001b[39;00m hook_result \u001b[38;5;129;01mis\u001b[39;00m \u001b[38;5;129;01mnot\u001b[39;00m \u001b[38;5;28;01mNone\u001b[39;00m:\n\u001b[1;32m   1550\u001b[0m     result \u001b[38;5;241m=\u001b[39m hook_result\n",
      "File \u001b[0;32m~/Desktop/mangocrisp/labs/gym/callbacks.py:106\u001b[0m, in \u001b[0;36mHooksCallback._hookfunc\u001b[0;34m(self, learn, *args, **kwargs)\u001b[0m\n\u001b[1;32m    105\u001b[0m \u001b[38;5;28;01mdef\u001b[39;00m \u001b[38;5;21m_hookfunc\u001b[39m(\u001b[38;5;28mself\u001b[39m, learn, \u001b[38;5;241m*\u001b[39margs, \u001b[38;5;241m*\u001b[39m\u001b[38;5;241m*\u001b[39mkwargs):\n\u001b[0;32m--> 106\u001b[0m     \u001b[38;5;28;01mif\u001b[39;00m (\u001b[38;5;28mself\u001b[39m\u001b[38;5;241m.\u001b[39mon_train \u001b[38;5;129;01mand\u001b[39;00m learn\u001b[38;5;241m.\u001b[39mtraining) \u001b[38;5;129;01mor\u001b[39;00m (\u001b[38;5;28mself\u001b[39m\u001b[38;5;241m.\u001b[39mon_valid \u001b[38;5;129;01mand\u001b[39;00m \u001b[38;5;129;01mnot\u001b[39;00m learn\u001b[38;5;241m.\u001b[39mtraining): \u001b[38;5;28;43mself\u001b[39;49m\u001b[38;5;241;43m.\u001b[39;49m\u001b[43mhookfunc\u001b[49m\u001b[43m(\u001b[49m\u001b[38;5;241;43m*\u001b[39;49m\u001b[43margs\u001b[49m\u001b[43m,\u001b[49m\u001b[43m \u001b[49m\u001b[38;5;241;43m*\u001b[39;49m\u001b[38;5;241;43m*\u001b[39;49m\u001b[43mkwargs\u001b[49m\u001b[43m)\u001b[49m\n",
      "File \u001b[0;32m~/Desktop/mangocrisp/labs/gym/callbacks.py:12\u001b[0m, in \u001b[0;36mappend_stats\u001b[0;34m(hook, mod, inp, outp)\u001b[0m\n\u001b[1;32m     10\u001b[0m \u001b[38;5;28;01mdef\u001b[39;00m \u001b[38;5;21mappend_stats\u001b[39m(hook, mod, inp, outp):\n\u001b[1;32m     11\u001b[0m     \u001b[38;5;28;01mif\u001b[39;00m \u001b[38;5;129;01mnot\u001b[39;00m \u001b[38;5;28mhasattr\u001b[39m(hook,\u001b[38;5;124m'\u001b[39m\u001b[38;5;124mstats\u001b[39m\u001b[38;5;124m'\u001b[39m): hook\u001b[38;5;241m.\u001b[39mstats \u001b[38;5;241m=\u001b[39m ([],[],[])\n\u001b[0;32m---> 12\u001b[0m     acts \u001b[38;5;241m=\u001b[39m \u001b[43mto_cpu\u001b[49m\u001b[43m(\u001b[49m\u001b[43moutp\u001b[49m\u001b[43m)\u001b[49m\n\u001b[1;32m     13\u001b[0m     hook\u001b[38;5;241m.\u001b[39mstats[\u001b[38;5;241m0\u001b[39m]\u001b[38;5;241m.\u001b[39mappend(acts\u001b[38;5;241m.\u001b[39mmean())\n\u001b[1;32m     14\u001b[0m     hook\u001b[38;5;241m.\u001b[39mstats[\u001b[38;5;241m1\u001b[39m]\u001b[38;5;241m.\u001b[39mappend(acts\u001b[38;5;241m.\u001b[39mstd())\n",
      "File \u001b[0;32m~/Desktop/mangocrisp/labs/gym/device.py:30\u001b[0m, in \u001b[0;36mto_cpu\u001b[0;34m(x)\u001b[0m\n\u001b[1;32m     27\u001b[0m \u001b[38;5;28;01mif\u001b[39;00m \u001b[38;5;28misinstance\u001b[39m(x, \u001b[38;5;28mtuple\u001b[39m):\n\u001b[1;32m     28\u001b[0m     \u001b[38;5;28;01mreturn\u001b[39;00m \u001b[38;5;28mtuple\u001b[39m(to_cpu(\u001b[38;5;28mlist\u001b[39m(x)))\n\u001b[0;32m---> 30\u001b[0m res \u001b[38;5;241m=\u001b[39m \u001b[43mx\u001b[49m\u001b[38;5;241;43m.\u001b[39;49m\u001b[43mdetach\u001b[49m\u001b[43m(\u001b[49m\u001b[43m)\u001b[49m\u001b[38;5;241;43m.\u001b[39;49m\u001b[43mcpu\u001b[49m\u001b[43m(\u001b[49m\u001b[43m)\u001b[49m\n\u001b[1;32m     31\u001b[0m \u001b[38;5;28;01mreturn\u001b[39;00m res\u001b[38;5;241m.\u001b[39mfloat() \u001b[38;5;28;01mif\u001b[39;00m res\u001b[38;5;241m.\u001b[39mdtype \u001b[38;5;241m==\u001b[39m torch\u001b[38;5;241m.\u001b[39mfloat16 \u001b[38;5;28;01melse\u001b[39;00m res\n",
      "\u001b[0;31mKeyboardInterrupt\u001b[0m: "
     ]
    },
    {
     "data": {
      "image/png": "[encoded data removed]",
      "text/plain": [
       "<Figure size 600x400 with 1 Axes>"
      ]
     },
     "metadata": {},
     "output_type": "display_data"
    }
   ],
   "source": [
    "dls = DataLoaders.from_dd(tds, 256, num_workers=4)\n",
    "model = get_model(act=torch.nn.ReLU, norm=torch.nn.BatchNorm2d)\n",
    "# set_seed(15)\n",
    "metrics = MetricsCB(accuracy=MulticlassAccuracy())\n",
    "astats = ActivationStats(fc.risinstance(torch.nn.ReLU))\n",
    "cbs = [DeviceCB(), metrics, ProgressCB(plot=True), astats]\n",
    "learn = MomentumLearner(model, dls, torch.nn.functional.cross_entropy, lr=0.2, cbs=cbs)\n",
    "learn.fit(3)"
   ]
  },
  {
   "cell_type": "markdown",
   "id": "02d47bf2-88eb-4363-a2c8-ad0f2b3d088b",
   "metadata": {},
   "source": [
    "Let's see how the mean and variances are throughout training:"
   ]
  },
  {
   "cell_type": "code",
   "execution_count": null,
   "id": "bac529a0-039f-4d08-b658-d080033a8d72",
   "metadata": {},
   "outputs": [],
   "source": [
    "astats.plot_stats()"
   ]
  },
  {
   "cell_type": "markdown",
   "id": "7d2aab94-134f-4c01-bb27-3268011f3af9",
   "metadata": {},
   "source": [
    "To understand what's really going on in Batch Normalization, let's define our own function that does something quite similar."
   ]
  },
  {
   "cell_type": "code",
   "execution_count": null,
   "id": "a7376cee-54cd-4aa0-85cf-dfd8eeea1474",
   "metadata": {},
   "outputs": [],
   "source": [
    "class BatchNorm(torch.nn.Module):\n",
    "    def __init__(self, nf, momentum=0.1, eps=1e-5):\n",
    "        super().__init__()\n",
    "        self.momentum,self.eps = momentum,eps\n",
    "        self.scale = torch.nn.Parameter(torch.ones (nf,1,1))\n",
    "        self.shift  = torch.nn.Parameter(torch.zeros(nf,1,1))\n",
    "        self.register_buffer('vars',  torch.ones(1,nf,1,1))\n",
    "        self.register_buffer('means', torch.zeros(1,nf,1,1))\n",
    "\n",
    "    def update_stats(self, x):\n",
    "        m = x.mean((0,2,3), keepdim=True)\n",
    "        v = x.var ((0,2,3), keepdim=True)\n",
    "        self.means.lerp_(m, self.momentum)\n",
    "        self.vars.lerp_ (v, self.momentum)\n",
    "        return m,v\n",
    "        \n",
    "    def forward(self, x):\n",
    "        if self.training:\n",
    "            with torch.no_grad(): m,v = self.update_stats(x)\n",
    "        else: m,v = self.means,self.vars\n",
    "        x = (x-m) / (v+self.eps).sqrt()\n",
    "        return x*self.scale + self.shift"
   ]
  },
  {
   "cell_type": "markdown",
   "id": "ce488a8f-85b7-4360-8804-09b616395d24",
   "metadata": {},
   "source": [
    "Let's see below what's going on here:\n",
    "\n",
    "### Understanding the code\n",
    "\n",
    "#### Class\n",
    "- `class BatchNorm(torch.nn.Module)`: This line defines a new class that inherits from PyTorch's `torch.nn.Module`. This is a custom implementation of a batch normalization layer.\n",
    "\n",
    "#### Constructor\n",
    "- `def __init__(self, nf, momentum=0.1, eps=1e-5)`: The constructor initializes the layer with the following parameters:\n",
    "    - **nf**: The number of features (channels) in the input.\n",
    "    * **momentum**: Momentum for the running mean and variance. It's set to 0.1 by default.\n",
    "    * **eps**: A small constant added for numerical stability, set to 1e-5 by default.\n",
    "- **self.scale** and **self.shift**: These are learnable scale (gamma) and shift (beta) parameters, respectively, initialized to ones (for scaling) and zeros (for shifting). They are implemented as `torch.nn.Parameter` to indicate that they should be learned during training.\n",
    "- **self.register_buffer**: This method is used to register buffers, `vars` and `means`, which are *not* learnable parameters but are part of the model's state. `vars` is initialized to ones and `means` to zeros. These buffers store the running variance and mean, respectively.\n",
    "\n",
    "#### Method update_stats\n",
    "- `def update_stats(self, x)`: This method updates the running means and variances based on the input `x`. \n",
    "    - It computes the mean (`m`) and variance (`v`) of `x` across specified dimensions (batch, height, and width, but not channels).\n",
    "- `self.means.lerp_` and `self.vars.lerp_`:\n",
    "    - These lines update the running means and variances using linear interpolation with `momentum`.\n",
    "\n",
    "#### Method forward\n",
    "- `def forward(self, x)`: This method defines the forward pass of the layer. \n",
    "    - If the layer is in training mode (`self.training` is `True`), it updates the running statistics `(m, v)` and uses these for normalization.\n",
    "    - If not, it uses the stored running means and variances.\n",
    "    - The normalization is done by subtracting the mean and dividing by the square root of variance plus `eps`.\n",
    "    - Finally, it applies the learnable scale (`self.scale`) and shift (`self.shift`) parameters.\n",
    "    \n",
    "### Understanding lerp_:\n",
    "- `lerp_` stands for linear interpolation. In PyTorch, this function is used to update a value by moving it closer to another value. \n",
    "- The formula for `lerp_` is typically: `new_value = old_value + momentum * (target_value - old_value)`.\n",
    "- This is an in-place operation, indicated by the underscore at the end of `lerp_`, meaning it modifies the data of `self.means` and `self.vars` directly.\n",
    "\n",
    "#### Application in Batch Normalization:\n",
    "- Running Mean (`self.means`): \n",
    "    - This buffer stores the running average of the means of the features (over the batches seen during training). The `lerp_` function is used to update this running mean, blending it with the mean of the current batch (`m`). The degree of blending is controlled by the momentum parameter (`self.momentum`).\n",
    "- Running Variance (`self.vars`): Similarly, this buffer keeps track of the running average of variances of the features. It is updated using the variance of the current batch (`v`), again moderated by the momentum term.\n",
    "\n",
    "#### The Point:\n",
    "- To accumulate stable statistics over the entire training dataset, which can generalize well to unseen data.\n",
    "\n",
    "### Why does batch normalization need to know the number of filters (`nf`)?\n",
    "- Per-Channel Parameters: Since `BatchNorm` operates independently on each feature channel, it needs to know the number of channels (`nf`) to create the appropriate number of scaling and shifting parameters.\n",
    "- Running Statistics: `BatchNorm` tracks running averages of means and variances for each feature map, which also requires knowing the number of feature maps.\n",
    "\n",
    "We can also try a similar (and simpler) approach, called layer normalization."
   ]
  },
  {
   "cell_type": "code",
   "execution_count": null,
   "id": "482a40b9-0be9-42be-877e-85896babe678",
   "metadata": {},
   "outputs": [],
   "source": [
    "class LayerNorm(torch.nn.Module):\n",
    "    def __init__(self, filler, eps=1e-5):\n",
    "        super().__init__()\n",
    "        self.eps = eps\n",
    "        self.scale = torch.nn.Parameter(torch.tensor(1.))\n",
    "        self.shift  = torch.nn.Parameter(torch.tensor(0.))\n",
    "\n",
    "    def forward(self, x):\n",
    "        m = x.mean((1,2,3), keepdim=True)\n",
    "        v = x.var ((1,2,3), keepdim=True)\n",
    "        x = (x-m) / ((v+self.eps).sqrt())\n",
    "        return x*self.scale + self.shifta"
   ]
  },
  {
   "cell_type": "markdown",
   "id": "9db3b157-b0fc-4a79-ba71-bf789b602f9a",
   "metadata": {},
   "source": [
    "Let's see below what's going on here:\n",
    "\n",
    "### Understanding the code\n",
    "\n",
    "#### Class Definition \n",
    "\n",
    "- `LayerNorm(nn.Module)`:\n",
    "    - This is a custom class LayerNorm that inherits from `nn.Module`, the base class for all neural network modules in PyTorch.\n",
    "    \n",
    "#### Constructor\n",
    "- `def __init__(self, filler, eps=1e-5)`: The constructor takes two arguments: `filler` and `eps`.\n",
    "    - `filler` is necessary because of how the `conv` function above invokes the `norm` argument, passing in the number of filters (which is needed for batch normalization as mentioned above).\n",
    "    - The `eps` argument is used for numerical stability and is set to a default value of 1e-5.\n",
    "- `self.scale` and `self.shift` are learnable parameters initialized to 1 and 0, respectively. These parameters will be adjusted during the training process.\n",
    "\n",
    "#### Forward Method (`forward`):\n",
    "- This method defines how the module processes input data (x).\n",
    "- `x.mean((1,2,3), keepdim=True)`:\n",
    "    - Computes the mean of `x` across dimensions 1, 2, and 3, while keeping the dimensions (not flattening them).\n",
    "- `x.var ((1,2,3), keepdim=True)`\n",
    "    - Computes the variance of `x` across the same dimensions.\n",
    "- `x = (x-m) / ((v+self.eps).sqrt())`\n",
    "    - Normalizes x by subtracting the mean `m` and dividing by the square root of the variance `v` plus `eps` (for numerical stability).\n",
    "- `return x * self.scale + self.shift`:\n",
    "    - Scales the normalized data by `self.scale` and shifts it by `self.shift`. These are learnable parameters that allow the layer to adjust the normalization process during training."
   ]
  },
  {
   "cell_type": "markdown",
   "id": "28b303a4-fe36-4355-a66e-1517966bd8e6",
   "metadata": {},
   "source": [
    "## Batch vs Layer Normalization\n",
    "Some notable differences between the two types of normalization are as follows:\n",
    "\n",
    "1. Normalization Scope\n",
    "- `BatchNorm`: \n",
    "    - Normalizes the input across the batch dimension. \n",
    "    - Computes the mean and variance for each feature channel over the batch and spatial dimensions (height and width). \n",
    "    - This is evident in the line `m = x.mean((0,2,3), keepdim=True)` in `BatchNorm`, where it calculates the mean over the batch, height, and width dimensions, but not the channel dimension.\n",
    "- `LayerNorm`: \n",
    "    - Normalizes the input per data point (per layer).\n",
    "    - Computes the mean and variance for each individual data point over all features. \n",
    "    - This is evident in the line `m = x.mean((1,2,3), keepdim=True)` in `LayerNorm` where it calculates the mean over the channel, height, and width dimensions, but separately for each item in the batch.\n",
    "2. Running Statistics\n",
    "- `BatchNorm`: \n",
    "    - Maintains running averages of the mean and variance during training (using `self.means` and `self.vars`), which are used during evaluation.\n",
    "- `LayerNorm`: \n",
    "    - Does not maintain running averages of mean and variance. \n",
    "    - Each input is normalized based on its own mean and variance.\n",
    "3. Learnable Parameters\n",
    "- Both layers have learnable scale (`self.scale`) and shift (`self.shift`) parameters, but they are applied differently due to the different scopes of normalization.\n",
    "\n",
    "4. Applicability and Effects:\n",
    "- `BatchNorm`: \n",
    "   - Effective in regularizing the model and accelerating training. \n",
    "   - Sensitive to the batch size since it normalizes over the batch dimension.\n",
    "-`LayerNorm`: \n",
    "   - Particularly useful in models where the batch size is small or varies, as it computes statistics for each data point independently of the batch. \n",
    "   - Often used transformer models.\n",
    "   \n",
    "5. Momentum and Update Strategy\n",
    "- `BatchNorm`: \n",
    "    - Uses a momentum parameter to update running statistics and applies these statistics during the model's evaluation phase.\n",
    "- `LayerNorm`:\n",
    "    - There's no concept of momentum or running statistics.\n",
    "    - normalization is based entirely on the statistics of the current input.\n",
    "    \n",
    "### Summary\n",
    "Both aim to stabilize training by normalizing the inputs to the layers. But they differ in how they compute and apply these normalizations.\n",
    "\n",
    "Adjust the learning rate. Play with not having to initlaize. play with a custom relu.\n",
    "\n",
    "Below is a nice illustration from [here](https://ai.stackexchange.com/questions/27309/what-are-the-consequences-of-layer-norm-vs-batch-norm).\n",
    "\n",
    "![Differences between normalizations](images/norms.png)"
   ]
  },
  {
   "cell_type": "markdown",
   "id": "caa513a8-3833-449a-8d22-8d93342741f2",
   "metadata": {},
   "source": [
    "## Experimentation\n",
    "\n",
    "Now is where the real experimentation begins. See if you can make the accuracy better but tweaking things, changing things, etc. Here are some ideas:\n",
    "\n",
    "#### Activation Function\n",
    "You may wish to try a different activation function instead of a vanilla ReLU. Remember that an activation function like ReLU introduces a discontinuity in the otherwise linear layers of a neural network, allowing the function of the entire network to be non-linear. This is important because life, outside of man-made domains like games, does not follow straight lines of logic. I've written a bit more about this [here](https://x.com/PrefectureCo/status/1739285307533713655).\n",
    "\n",
    "The vanilla ReLU simply cannot produce activations with a mean of zero and variance of 1 unless all activation values are zero; this is evident by its shape.\n",
    "\n",
    "![Vanilla ReLU](images/relu.png)\n",
    "\n",
    "So, let's shift the ReLU down so that when its applied to produce activations, the activations can be normally distributed. "
   ]
  },
  {
   "cell_type": "code",
   "execution_count": null,
   "id": "d82d47e2-1545-48e6-9640-951c6fb7a051",
   "metadata": {},
   "outputs": [],
   "source": [
    "class CustomReLU(torch.nn.Module):\n",
    "    def __init__(self, leak=None, sub=None):\n",
    "        super().__init__()\n",
    "        self.leak, self.sub = leak, sub\n",
    "\n",
    "    def forward(self, x):\n",
    "        if self.leak is None:\n",
    "            x = torch.nn.functional.relu(x) \n",
    "        else:\n",
    "            x = torch.nn.functional.leaky_relu(x, self.leak) \n",
    "        if self.sub is not None: x -= self.sub\n",
    "        return x\n",
    "\n",
    "x = torch.linspace(-10, 5, 100)\n",
    "plt.plot(x, CustomReLU(leak=0.1, sub=0.4)(x))\n",
    "plt.grid(True, which='both', ls='--')\n",
    "plt.axhline(y=0, color='k', linewidth=0.7)\n",
    "plt.axvline(x=0, color='k', linewidth=0.7)"
   ]
  },
  {
   "cell_type": "markdown",
   "id": "df47d51f-ed0b-4ba0-bda2-2491251d9d83",
   "metadata": {},
   "source": [
    "Above, we also allow the ReLU to be [leaky](https://pytorch.org/docs/stable/generated/torch.nn.LeakyReLU.html). What's the purpose of this? In a standard ReLU, if the input to a neuron is negative, the output is zero. During the backpropagation process, this leads to zero gradient for these neurons, and they stop getting updates (i.e stop learning). If this happens at a large enough scale, the model itself can't learn effectivly. So, the leak aims to mitigate this by allowing a small, non-zero gradient when the unit is not active. All credit for this idea goes to Jeremy Howard, and you can learn about it [here](https://github.com/fastai/course22p2/blob/master/nbs/11_initializing.ipynb) and [here](https://www.youtube.com/watch?v=vGsc_NbU7xc)."
   ]
  },
  {
   "cell_type": "markdown",
   "id": "bfdc5eed-9c2a-46fb-a5c9-158a5fbbc94a",
   "metadata": {},
   "source": [
    "Other things you can do increase/decrease the learning rate, or try normalizing the weights as an initialization step before each layer.\n",
    "\n",
    "An example of the latter would would be to do a Kaiming/He initialization, as described [here](https://arxiv.org/abs/1502.01852). To scale the weights, we use the following scale: $\\sqrt{2 / n_{in}}$, where $n_{in}$ is the number of inputs of our model.\n",
    "\n",
    "Luckily this is already implemented in `torch.nn.init`; So, let's create a handy function to initialize the weights:"
   ]
  },
  {
   "cell_type": "code",
   "execution_count": null,
   "id": "ea4a2327-36b5-459e-bcfc-e11e2f1e33a7",
   "metadata": {},
   "outputs": [],
   "source": [
    "def init_weights(layer):\n",
    "    if isinstance(layer, (nn.Conv1d,nn.Conv2d,nn.Conv3d)): torch.nn.init.kaiming_normal_(layer.weight)"
   ]
  },
  {
   "cell_type": "markdown",
   "id": "a0f7f715-46a7-496d-a38e-88a61da29248",
   "metadata": {},
   "source": [
    "We can apply this to every layer in the model like this: `get_model(act=torch.nn.ReLU, norm=torch.nn.BatchNorm2d).apply(init_weights)`"
   ]
  },
  {
   "cell_type": "markdown",
   "id": "cd9d987e-17e2-4203-9992-7b93ea9a8b39",
   "metadata": {},
   "source": [
    "# Conclusion\n",
    "You may now see the importance of creating the environment for effective training. Thanks for following along."
   ]
  }
 ],
 "metadata": {
  "kernelspec": {
   "display_name": "Python 3 (ipykernel)",
   "language": "python",
   "name": "python3"
  },
  "language_info": {
   "codemirror_mode": {
    "name": "ipython",
    "version": 3
   },
   "file_extension": ".py",
   "mimetype": "text/x-python",
   "name": "python",
   "nbconvert_exporter": "python",
   "pygments_lexer": "ipython3",
   "version": "3.10.10"
  }
 },
 "nbformat": 4,
 "nbformat_minor": 5
}
